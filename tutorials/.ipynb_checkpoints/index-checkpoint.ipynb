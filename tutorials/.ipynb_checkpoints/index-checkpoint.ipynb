{
 "cells": [
  {
   "cell_type": "markdown",
   "metadata": {},
   "source": [
    "# JUGAMD tutorials and examples"
   ]
  },
  {
   "cell_type": "markdown",
   "metadata": {},
   "source": [
    "Welcome to use [JUGAMD](http://jugamd.com/) for MD simulations. Here are some tutorials and examlples for doing exercises. Jupyter notebook files are available from [github](https://github.com/youliangzhu/jugamd-v1/tree/master/tutorials)."
   ]
  },
  {
   "cell_type": "markdown",
   "metadata": {},
   "source": [
    "## Installation\n",
    "Please see the [documentation](https://jugamd-v1.readthedocs.io/en/latest/) to know the features of JUGAMD. Following the [guide](https://jugamd-v1.readthedocs.io/en/latest/installation.html) for installation and usage. "
   ]
  },
  {
   "cell_type": "markdown",
   "metadata": {},
   "source": [
    "## Tutorials \n",
    "- **Dissipative Particle Dynamic Simulation**\n",
    "    - [Diblock-polymer](dpd_diblock-polymer.ipynb)\n",
    "- **General Molecular Dynamics simulation**\n",
    "    - [LJ-liquid](md_lj_liquid.ipynb)\n",
    "- **Self-Defined Potentials for Simulation**\n",
    "    - [Example](example.ipynb)"
   ]
  },
  {
   "cell_type": "code",
   "execution_count": null,
   "metadata": {},
   "outputs": [],
   "source": []
  }
 ],
 "metadata": {
  "kernelspec": {
   "display_name": "Python 3",
   "language": "python",
   "name": "python3"
  },
  "language_info": {
   "codemirror_mode": {
    "name": "ipython",
    "version": 3
   },
   "file_extension": ".py",
   "mimetype": "text/x-python",
   "name": "python",
   "nbconvert_exporter": "python",
   "pygments_lexer": "ipython3",
   "version": "3.7.3"
  }
 },
 "nbformat": 4,
 "nbformat_minor": 2
}
