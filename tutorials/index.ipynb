{
 "cells": [
  {
   "cell_type": "markdown",
   "metadata": {},
   "source": [
    "# PYGAMD tutorials and examples"
   ]
  },
  {
   "cell_type": "markdown",
   "metadata": {},
   "source": [
    "Welcome to use [PYGAMD](http://pygamd.com/) for MD simulations. Here are some tutorials and examlples for doing exercises. Jupyter notebook files are available from [github](https://github.com/youliangzhu/pygamd-v1/tree/main/tutorials)."
   ]
  },
  {
   "cell_type": "markdown",
   "metadata": {},
   "source": [
    "## Installation\n",
    "Please see the [documentation](https://pygamd-v1.readthedocs.io/en/latest/) to know the features of PYGAMD. Following the [guide](https://pygamd-v1.readthedocs.io/en/latest/installation.html) for installation and usage. "
   ]
  },
  {
   "cell_type": "markdown",
   "metadata": {},
   "source": [
    "## Tutorials \n",
    "- **Dissipative Particle Dynamic Simulation**\n",
    "    - [Diblock-polymer](dpd_diblock-polymer.ipynb)\n",
    "- **General Molecular Dynamics simulation**\n",
    "    - [LJ-liquid](md_lj_liquid.ipynb)\n",
    "- **Self-Defined Potentials for Simulation**\n",
    "    - [Example](example.ipynb)"
   ]
  },
  {
   "cell_type": "code",
   "execution_count": null,
   "metadata": {},
   "outputs": [],
   "source": []
  }
 ],
 "metadata": {
  "kernelspec": {
   "display_name": "Python 3",
   "language": "python",
   "name": "python3"
  },
  "language_info": {
   "codemirror_mode": {
    "name": "ipython",
    "version": 3
   },
   "file_extension": ".py",
   "mimetype": "text/x-python",
   "name": "python",
   "nbconvert_exporter": "python",
   "pygments_lexer": "ipython3",
   "version": "3.7.3"
  }
 },
 "nbformat": 4,
 "nbformat_minor": 2
}
