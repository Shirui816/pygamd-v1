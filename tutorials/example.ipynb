{
 "cells": [
  {
   "cell_type": "markdown",
   "metadata": {},
   "source": [
    "# Self-definded potentials"
   ]
  },
  {
   "cell_type": "markdown",
   "metadata": {},
   "source": [
    "**`By You-Liang Zhu`**"
   ]
  },
  {
   "cell_type": "markdown",
   "metadata": {},
   "source": [
    "Here, we take tetramer molecule as an example system to illustrate the usage of self-defined potential functions for simulation. The potentials could include non-bonded, bond, angle, and dihedral ones."
   ]
  },
  {
   "cell_type": "markdown",
   "metadata": {},
   "source": [
    "First of all, we generate the configuration of a tetramer system by molgen module."
   ]
  },
  {
   "cell_type": "code",
   "execution_count": null,
   "metadata": {},
   "outputs": [],
   "source": [
    "import molgen\n",
    "\n",
    "mol1=molgen.Molecule(4)#particle number\n",
    "mol1.setParticleTypes(\"A,A,A,A\")#type\n",
    "mol1.setTopology(\"0-1,1-2,2-3\")#topology\n",
    "mol1.setBondLength(0.5)#bond length\n",
    "mol1.setAngleDegree(\"A\",\"A\",\"A\",120)#bond length\n",
    "mol1.setDihedralDegree(\"A\",\"A\",\"A\",\"A\",180)#bond length\n",
    "mol1.setMass(1.0)#mass\n",
    "\n",
    "\n",
    "gen=molgen.Generators(20,20,20) # box size in x, y, and z direction\n",
    "gen.addMolecule(mol1,1)#molecule, the number of molecules\n",
    "gen.outPutMST(\"example\") #file name"
   ]
  },
  {
   "cell_type": "markdown",
   "metadata": {},
   "source": [
    "Then we could run MD simulation by calling the potential functions from the library of pygamd module by giving the function names."
   ]
  },
  {
   "cell_type": "code",
   "execution_count": null,
   "metadata": {},
   "outputs": [],
   "source": [
    "import pygamd\n",
    "\n",
    "mst = pygamd.snapshot.read(\"example.mst\")\n",
    "app = pygamd.application.dynamics(info=mst, dt=0.001)\n",
    "\n",
    "fn = pygamd.force.nonbonded(info=mst, rcut=3.0, func='lj')\n",
    "fn.setParams(type_i=\"A\", type_j=\"A\", param=[1.0, 1.0, 1.0, 3.0])\n",
    "app.add(fn)\n",
    "\n",
    "fb = pygamd.force.bond(info=mst, func='harmonic')\n",
    "fb.setParams(bond_type = 'A-A', param=[1000.0, 0.5])#(,k, r0)\n",
    "app.add(fb)\n",
    "\n",
    "fa = pygamd.force.angle(info=mst, func='harmonic')\n",
    "fa.setParams(angle_type='A-A-A', param=[100.0, 120.0])#(,k, t0)\n",
    "app.add(fa)\n",
    "\n",
    " \n",
    "fd = pygamd.force.dihedral(info=mst, func='harmonic')\n",
    "fd.setParams(dihedral_type = 'A-A-A-A', param=[25.0, 180.0])#(,k, t0)\n",
    "app.add(fd)\n",
    "\n",
    "nvt = pygamd.integration.nvt(info=mst, group='all', method=\"nh\", tau=0.5, temperature=1.0)\n",
    "app.add(nvt)\n",
    "\n",
    "dd = pygamd.dump.data(info=mst, group='all', file='data.log', period=100)\n",
    "app.add(dd)\n",
    "\n",
    "dm = pygamd.dump.mst(info=mst, group='all', file='p.mst', period=10000)\n",
    "app.add(dm)\n",
    "\n",
    "#run \n",
    "app.run(20000)"
   ]
  },
  {
   "cell_type": "markdown",
   "metadata": {},
   "source": [
    "Instead of calling the potential functions from library, we could self-defined potential functions for non-bonded, bond, angle, and dihedral interactions in script. The self-defined functions are device function in Python3 Numba lauguages. The illustration about the expressions of potential and force in self-definded functions could be found in https://pygamd-v1.readthedocs.io/en/latest/. "
   ]
  },
  {
   "cell_type": "code",
   "execution_count": null,
   "metadata": {},
   "outputs": [],
   "source": [
    "import pygamd\n",
    "from numba import cuda\n",
    "import numba as nb\n",
    "import math\n",
    "\n",
    "\n",
    "mst = pygamd.snapshot.read(\"example.mst\")\n",
    "app = pygamd.application.dynamics(info=mst, dt=0.001)\n",
    "\n",
    "@cuda.jit(device=True)\n",
    "def lj(rsq, param, fp):\n",
    "\tepsilon = param[0]\n",
    "\tsigma = param[1]\n",
    "\talpha = param[2]\n",
    "\trcut = param[3]\n",
    "\tif rsq<rcut*rcut:\n",
    "\t\tsigma2 = sigma*sigma\n",
    "\t\tr2inv = sigma2/rsq;\n",
    "\t\tr6inv = r2inv * r2inv * r2inv;\n",
    "\t\tf = nb.float32(4.0) * epsilon * r2inv * r6inv * (nb.float32(12.0) * r6inv - nb.float32(6.0) * alpha)/sigma2\t\n",
    "\t\tp = nb.float32(4.0) * epsilon * r6inv * ( r6inv - nb.float32(1.0))\n",
    "\t\tfp[0]=f\n",
    "\t\tfp[1]=p\t\n",
    "\n",
    "fn = pygamd.force.nonbonded(info=mst, rcut=3.0, func=lj)\n",
    "fn.setParams(type_i=\"A\", type_j=\"A\", param=[1.0, 1.0, 1.0, 3.0])\n",
    "app.add(fn)\n",
    "\n",
    "@cuda.jit(device=True)\n",
    "def bond_harmonic(rsq, param, fp):\n",
    "\tk = param[0]\n",
    "\tr0 = param[1]\n",
    "\tr = math.sqrt(rsq)\n",
    "\tf = k * (r0/r - nb.float32(1.0))\n",
    "\tp = nb.float32(0.5) * k * (r0 - r) * (r0 - r)\n",
    "\tfp[0]=f\n",
    "\tfp[1]=p\n",
    "\n",
    "fb = pygamd.force.bond(info=mst, func=bond_harmonic)\n",
    "fb.setParams(bond_type = 'A-A', param=[1000.0, 0.5])#param=[k, r0]\n",
    "app.add(fb)\n",
    "\n",
    "\n",
    "@cuda.jit(device=True)\n",
    "def angle_harmonic(cos_abc, sin_abc, param, fp):\n",
    "\tk = param[0]\n",
    "\tt0 = param[1]\n",
    "\tdth = math.acos(cos_abc) - math.pi*t0/nb.float32(180.0)\n",
    "\tf = k * dth\n",
    "\tp = nb.float32(0.5) * f * dth\n",
    "\tfp[0]=f\n",
    "\tfp[1]=p\n",
    "\n",
    "fa = pygamd.force.angle(info=mst, func=angle_harmonic)\n",
    "fa.setParams(angle_type='A-A-A', param=[100.0, 120.0])#param=[k, t0]\n",
    "app.add(fa)\n",
    "\n",
    "@cuda.jit(device=True)\n",
    "def dihedral_harmonic(cos_abcd, sin_abcd, param, fp):\n",
    "\tk = param[0]\n",
    "\tcos_phi0 = param[1]\n",
    "\tsin_phi0 = param[2]\n",
    "\tcos_factor = param[3]\n",
    "\tf = cos_factor * (-sin_abcd*cos_phi0 + cos_abcd*sin_phi0)\n",
    "\tp = nb.float32(1.0) + cos_factor * (cos_abcd*cos_phi0 + sin_abcd*sin_phi0)\n",
    "\tfp[0]=-k*f\n",
    "\tfp[1]=k*p\n",
    "\t\n",
    "fd = pygamd.force.dihedral(info=mst, func=dihedral_harmonic)\n",
    "fd.setParams(dihedral_type = 'A-A-A-A', param=[25.0, math.cos(math.pi), math.sin(math.pi), -1.0])#param=[k, cos_phi0, sin_phi0, cos_factor]\n",
    "app.add(fd)\n",
    "\n",
    "nvt = pygamd.integration.nvt(info=mst, group='all', method=\"nh\", tau=0.5, temperature=1.0)\n",
    "app.add(nvt)\n",
    "\n",
    "dd = pygamd.dump.data(info=mst, group='all', file='data.log', period=100)\n",
    "app.add(dd)\n",
    "\n",
    "dm = pygamd.dump.mst(info=mst, group='all', file='p.mst', period=10000)\n",
    "app.add(dm)\n",
    "\n",
    "#run \n",
    "app.run(20000)"
   ]
  }
 ],
 "metadata": {
  "kernelspec": {
   "display_name": "Python 3",
   "language": "python",
   "name": "python3"
  },
  "language_info": {
   "codemirror_mode": {
    "name": "ipython",
    "version": 3
   },
   "file_extension": ".py",
   "mimetype": "text/x-python",
   "name": "python",
   "nbconvert_exporter": "python",
   "pygments_lexer": "ipython3",
   "version": "3.7.3"
  }
 },
 "nbformat": 4,
 "nbformat_minor": 2
}
